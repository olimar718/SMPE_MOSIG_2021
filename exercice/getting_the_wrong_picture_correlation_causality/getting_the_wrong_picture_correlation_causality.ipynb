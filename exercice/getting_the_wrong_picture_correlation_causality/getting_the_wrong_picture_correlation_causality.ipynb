{
 "cells": [
  {
   "cell_type": "markdown",
   "id": "74f60ce1",
   "metadata": {},
   "source": [
    "# Introduction\n",
    "I hate dictations :("
   ]
  },
  {
   "cell_type": "markdown",
   "id": "35afc148",
   "metadata": {},
   "source": [
    "# Data representation\n",
    "It is relevant, in my opinion, to use a dictionnary "
   ]
  },
  {
   "cell_type": "code",
   "execution_count": 1,
   "id": "dfeccd82",
   "metadata": {},
   "outputs": [],
   "source": [
    "import matplotlib.pyplot\n",
    "l = {17.5: [15, 18, 19, 20], 18: [16, 17, 18, 19], 18.5: [14, 16, 17], 19: [15, 16], 20: [13, 14, 15], 20.5: [12, 13, 14], 21: [10, 11, 13, 15], 21.5: [10, 12, 13], 22: [8, 10, 11, 12], 23: [8, 9, 10], 23.5: [7, 8, 9, 11], 24: [6, 8, 9], 24.5: [6, 7, 8, 10], 25: [4, 6, 7, 8], 25.5: [5, 6], 26: [4, 5, 7], 26.5: [3, 4, 5], 27: [2, 3, 4, 7], 27.5: [2, 3], 28: [0, 1, 2, 4], 28.5: [0, 2], 29: [0, 1, 2]}\n"
   ]
  },
  {
   "cell_type": "markdown",
   "id": "136a3f4c",
   "metadata": {},
   "source": [
    "Then we create another dictionnary for the averages"
   ]
  },
  {
   "cell_type": "code",
   "execution_count": 2,
   "id": "7312001f",
   "metadata": {},
   "outputs": [],
   "source": [
    "l_average = {}"
   ]
  },
  {
   "cell_type": "markdown",
   "id": "dd6ffc22",
   "metadata": {},
   "source": [
    "Then we iterate over each foot size and compute the average amount of mistakes"
   ]
  },
  {
   "cell_type": "code",
   "execution_count": 3,
   "id": "fbb9779a",
   "metadata": {},
   "outputs": [],
   "source": [
    "import numpy\n",
    "for i in l:\n",
    "    # print(i, l[i])\n",
    "    l_average[i] = numpy.mean(l[i])\n",
    "# print(l_average)"
   ]
  },
  {
   "cell_type": "markdown",
   "id": "d37466ac",
   "metadata": {},
   "source": [
    "We can then plot our data, but first, a little transformation is necessary, to be able to plot a dictionnary, I found it [here](https://stackoverflow.com/questions/37266341/plotting-a-python-dict-in-order-of-key-values/37266356)"
   ]
  },
  {
   "cell_type": "code",
   "execution_count": 4,
   "id": "ec232c45",
   "metadata": {},
   "outputs": [
    {
     "data": {
      "image/png": "[encoded data removed]",
      "text/plain": [
       "<Figure size 432x288 with 1 Axes>"
      ]
     },
     "metadata": {
      "needs_background": "light"
     },
     "output_type": "display_data"
    }
   ],
   "source": [
    "lists = sorted(l_average.items()) # sorted by key, return a list of tuples\n",
    "x, y = zip(*lists) # unpack a list of pairs into two tuples\n",
    "matplotlib.pyplot.plot(x,y)\n",
    "matplotlib.pyplot.show()"
   ]
  },
  {
   "cell_type": "markdown",
   "id": "cd767a57",
   "metadata": {},
   "source": [
    "We can clearly see a clear correlation immediatelly from this plot. In fact using a linear regression from `scipy`, we can compute an explicit predictive formula"
   ]
  },
  {
   "cell_type": "code",
   "execution_count": 5,
   "id": "49168f32",
   "metadata": {},
   "outputs": [
    {
     "name": "stdout",
     "output_type": "stream",
     "text": [
      "LinregressResult(slope=-1.4920051256337399, intercept=43.736726280015596, rvalue=-0.9976947859226182, pvalue=7.573796662813525e-25, stderr=0.022692263311959428, intercept_stderr=0.5381834072539653)\n"
     ]
    }
   ],
   "source": [
    "from scipy import stats\n",
    "\n",
    "print(stats.linregress(x,y))"
   ]
  },
  {
   "cell_type": "markdown",
   "id": "783264ba",
   "metadata": {},
   "source": [
    "Therefore, the number of mistake is $y=-1.49\\times x+43.74$, where $x$ is the feet size."
   ]
  },
  {
   "cell_type": "markdown",
   "id": "f3483103",
   "metadata": {},
   "source": [
    "# Conclusion ?\n",
    "For this data, we can conclude that having bigger feet will make you much better at dictations. In fact, even tought we have no example of this, we can infer, with our linear regression, that someone with large enough feet could make a negative number of mistake, which is incredible !\n",
    "# Real conclusion\n",
    "The reality is that of course it's **age** that's causing both the number of mistakes and the size of the feet."
   ]
  }
 ],
 "metadata": {
  "kernelspec": {
   "display_name": "Python 3 (ipykernel)",
   "language": "python",
   "name": "python3"
  },
  "language_info": {
   "codemirror_mode": {
    "name": "ipython",
    "version": 3
   },
   "file_extension": ".py",
   "mimetype": "text/x-python",
   "name": "python",
   "nbconvert_exporter": "python",
   "pygments_lexer": "ipython3",
   "version": "3.9.7"
  }
 },
 "nbformat": 4,
 "nbformat_minor": 5
}
